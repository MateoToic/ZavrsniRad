{
 "cells": [
  {
   "cell_type": "code",
   "id": "9e9878e6-6a72-4dcf-8a24-cab496240381",
   "metadata": {
    "ExecuteTime": {
     "end_time": "2025-05-19T11:34:34.577840Z",
     "start_time": "2025-05-19T11:34:34.570856Z"
    }
   },
   "source": [
    "import pandas as pd\n",
    "\n",
    "fcu = pd.read_csv('../csvFiles/fcu.csv')\n",
    "\n",
    "zona_kalorimetar = pd.read_csv('../csvFiles/kalorimetar_zone.csv')"
   ],
   "outputs": [],
   "execution_count": 3
  },
  {
   "cell_type": "code",
   "id": "5ce75ce0-5f81-43b6-8c5b-ed0630a8c8bc",
   "metadata": {
    "ExecuteTime": {
     "end_time": "2025-05-19T11:36:44.038951Z",
     "start_time": "2025-05-19T11:36:44.025608Z"
    }
   },
   "source": [
    "zone = zona_kalorimetar['zone_id'].tolist()\n",
    "novi = fcu[fcu['zone_id'].isin(zone)]"
   ],
   "outputs": [],
   "execution_count": 4
  },
  {
   "cell_type": "code",
   "id": "650aea16-9cce-4aaf-8491-de38f1e1f9ba",
   "metadata": {
    "ExecuteTime": {
     "end_time": "2025-05-19T11:37:29.873140Z",
     "start_time": "2025-05-19T11:37:29.848356Z"
    }
   },
   "source": [
    "novi_df = novi[['zone_id', 'fcu_id', 'fcu_type_id']]\n",
    "sortirani_df = novi_df.sort_values(by=['zone_id', 'fcu_id', 'fcu_type_id'])\n",
    "sortirani_df.to_csv('../csvFiles/zone_fcu.csv', index=False)"
   ],
   "outputs": [],
   "execution_count": 5
  },
  {
   "cell_type": "code",
   "execution_count": null,
   "id": "e20f53f9-015c-4732-b3a2-8f5dd0b49368",
   "metadata": {},
   "outputs": [],
   "source": []
  }
 ],
 "metadata": {
  "kernelspec": {
   "display_name": "Python [conda env:base] *",
   "language": "python",
   "name": "conda-base-py"
  },
  "language_info": {
   "codemirror_mode": {
    "name": "ipython",
    "version": 3
   },
   "file_extension": ".py",
   "mimetype": "text/x-python",
   "name": "python",
   "nbconvert_exporter": "python",
   "pygments_lexer": "ipython3",
   "version": "3.12.2"
  }
 },
 "nbformat": 4,
 "nbformat_minor": 5
}

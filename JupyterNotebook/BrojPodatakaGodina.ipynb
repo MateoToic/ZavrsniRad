{
 "cells": [
  {
   "cell_type": "code",
   "execution_count": 1,
   "id": "e6e5a0ed-cb2a-4951-964d-5172d3b8a937",
   "metadata": {},
   "outputs": [],
   "source": [
    "import pandas as pd"
   ]
  },
  {
   "cell_type": "markdown",
   "id": "4c0e2ad7-fc3c-4b81-bfb1-c2e418550b8b",
   "metadata": {},
   "source": [
    "## Funkcija za filtriranje podataka ovisno o trajanju intervala bez promjene zone_fan_speed"
   ]
  },
  {
   "cell_type": "code",
   "execution_count": 151,
   "id": "f0584e1f-0b85-4abf-b02d-14b0afe4270d",
   "metadata": {},
   "outputs": [],
   "source": [
    "def filtriranje(df, trajanje):\n",
    "    df['zone_fan_speed'] = df['zone_fan_speed'].replace(33.0, 33.3)\n",
    "    df['zone_fan_speed'] = df['zone_fan_speed'].replace({\n",
    "    0.0: 0,\n",
    "    33.3: 1,\n",
    "    66.5: 2,\n",
    "    100.0: 3\n",
    "    })\n",
    "    df['timestamp'] = pd.to_datetime(df['timestamp'], errors='coerce')    \n",
    "    piv = df.pivot_table(index='timestamp', \n",
    "                     columns='zone_id', \n",
    "                     values='zone_fan_speed', \n",
    "                     aggfunc='first')\n",
    "    piv = piv.sort_index()\n",
    "    piv = piv.bfill()\n",
    "    changes_any_zone = piv.diff().ne(0).any(axis=1)     \n",
    "    piv['segment_id'] = changes_any_zone.cumsum()\n",
    "    df = df.set_index('timestamp')\n",
    "    df = df.join(piv['segment_id'], how='inner')\n",
    "    df = df.reset_index()\n",
    "    segments = piv.groupby('segment_id', as_index=False).agg(\n",
    "        start_time = ('segment_id', lambda x: x.index[0]),\n",
    "        end_time   = ('segment_id', lambda x: x.index[-1])\n",
    "    )\n",
    "    segments['duration'] = segments['end_time'] - segments['start_time']\n",
    "    fan_speed_po_segmentu = (\n",
    "        df.groupby('segment_id')['zone_fan_speed']\n",
    "        .agg(lambda x: x.dropna().iloc[0] if not x.dropna().empty else None)\n",
    "        .reset_index()\n",
    "        .rename(columns={'zone_fan_speed': 'fan_speed_state'})\n",
    "    )\n",
    "    segments = segments.merge(fan_speed_po_segmentu, on='segment_id', how='left')\n",
    "    segments_novi = segments[segments['duration'] >= pd.Timedelta(hours=trajanje)]\n",
    "    return (segments_novi)"
   ]
  },
  {
   "cell_type": "code",
   "execution_count": 132,
   "id": "0fe1f6ff-9e85-4b9d-a858-ba8f4cbfc824",
   "metadata": {},
   "outputs": [],
   "source": [
    "vrijeme = [0.25, 0.5, 1]\n",
    "gvp = dict()     #godina, vrijeme, podaci"
   ]
  },
  {
   "cell_type": "markdown",
   "id": "d321ef0a-9ed5-472f-8bdb-ea733d2a9393",
   "metadata": {},
   "source": [
    "### Iteracija po godinama:"
   ]
  },
  {
   "cell_type": "code",
   "execution_count": 158,
   "id": "3dff7ea6-dfb1-4bba-8cdf-2049df7a63ab",
   "metadata": {},
   "outputs": [],
   "source": [
    "from collections import defaultdict\n",
    "gvp = defaultdict(list)\n",
    "for godina in range(2018, 2023):\n",
    "    path = f\"../Podaci/9_S/{godina}/zones_20_year_{godina}.csv\"\n",
    "    podaci = pd.read_csv(path, low_memory=False)\n",
    "    for v in vrijeme:\n",
    "        segments_df = filtriranje(podaci, v)\n",
    "        broj = len(segments_df)\n",
    "        counts = segments_df['fan_speed_state'].value_counts().to_dict()\n",
    "        brzine = {i: counts.get(i, 0) for i in range(4)}\n",
    "        gvp[godina].append([\n",
    "            int(v*60),  \n",
    "            broj,       \n",
    "            brzine[0], \n",
    "            brzine[1],\n",
    "            brzine[2],\n",
    "            brzine[3]\n",
    "        ])"
   ]
  },
  {
   "cell_type": "markdown",
   "id": "ca258a31-5271-422d-be36-2f2525aae10b",
   "metadata": {},
   "source": [
    "### Konačni rezultat:"
   ]
  },
  {
   "cell_type": "code",
   "execution_count": 146,
   "id": "fbc1778d-16e9-41f2-807e-1747b12f7729",
   "metadata": {},
   "outputs": [
    {
     "name": "stdout",
     "output_type": "stream",
     "text": [
      "2018 :\n",
      "\tMinuta: 15\n",
      "\tPodataka: 1248\n",
      "Brzine (0,1,2,3): (1060,97,35,56)\n",
      "\tMinuta: 30\n",
      "\tPodataka: 753\n",
      "Brzine (0,1,2,3): (682,30,10,31)\n",
      "\tMinuta: 60\n",
      "\tPodataka: 491\n",
      "Brzine (0,1,2,3): (465,10,4,12)\n",
      "\n",
      "\n",
      "2019 :\n",
      "\tMinuta: 15\n",
      "\tPodataka: 2169\n",
      "Brzine (0,1,2,3): (1810,105,49,205)\n",
      "\tMinuta: 30\n",
      "\tPodataka: 1279\n",
      "Brzine (0,1,2,3): (1080,40,23,136)\n",
      "\tMinuta: 60\n",
      "\tPodataka: 760\n",
      "Brzine (0,1,2,3): (657,18,14,71)\n",
      "\n",
      "\n",
      "2020 :\n",
      "\tMinuta: 15\n",
      "\tPodataka: 1611\n",
      "Brzine (0,1,2,3): (1434,90,3,84)\n",
      "\tMinuta: 30\n",
      "\tPodataka: 1035\n",
      "Brzine (0,1,2,3): (932,57,0,46)\n",
      "\tMinuta: 60\n",
      "\tPodataka: 683\n",
      "Brzine (0,1,2,3): (627,27,0,29)\n",
      "\n",
      "\n",
      "2021 :\n",
      "\tMinuta: 15\n",
      "\tPodataka: 1882\n",
      "Brzine (0,1,2,3): (1576,166,6,134)\n",
      "\tMinuta: 30\n",
      "\tPodataka: 1115\n",
      "Brzine (0,1,2,3): (958,93,1,63)\n",
      "\tMinuta: 60\n",
      "\tPodataka: 630\n",
      "Brzine (0,1,2,3): (561,39,0,30)\n",
      "\n",
      "\n",
      "2022 :\n",
      "\tMinuta: 15\n",
      "\tPodataka: 2276\n",
      "Brzine (0,1,2,3): (2097,72,23,84)\n",
      "\tMinuta: 30\n",
      "\tPodataka: 1319\n",
      "Brzine (0,1,2,3): (1248,23,13,35)\n",
      "\tMinuta: 60\n",
      "\tPodataka: 815\n",
      "Brzine (0,1,2,3): (781,12,8,14)\n",
      "\n",
      "\n"
     ]
    }
   ],
   "source": [
    "for key, value in gvp.items():\n",
    "    print(key, \":\")\n",
    "    for svaki in value:\n",
    "        print(f\"\\tMinuta: {svaki[0]}\")\n",
    "        print(f\"\\tPodataka: {svaki[1]}\")\n",
    "        print(f\"Brzine (0,1,2,3): ({svaki[2]},{svaki[3]},{svaki[4]},{svaki[5]})\")\n",
    "    print(\"\\n\")"
   ]
  }
 ],
 "metadata": {
  "kernelspec": {
   "display_name": "Python [conda env:base] *",
   "language": "python",
   "name": "conda-base-py"
  },
  "language_info": {
   "codemirror_mode": {
    "name": "ipython",
    "version": 3
   },
   "file_extension": ".py",
   "mimetype": "text/x-python",
   "name": "python",
   "nbconvert_exporter": "python",
   "pygments_lexer": "ipython3",
   "version": "3.12.2"
  }
 },
 "nbformat": 4,
 "nbformat_minor": 5
}

{
 "cells": [
  {
   "cell_type": "code",
   "execution_count": 159,
   "id": "4a60c54f-2ae9-4dc8-ab73-fd9947ec9fd1",
   "metadata": {},
   "outputs": [],
   "source": [
    "import pandas as pd\n",
    "import numpy as np\n",
    "import matplotlib as plt\n",
    "path = '../Podaci/9_S/2022/zones_20_year_2022.csv'\n",
    "zone = pd.read_csv(path, low_memory=False)"
   ]
  },
  {
   "cell_type": "code",
   "execution_count": 161,
   "id": "c079c34a-c1ee-4bf4-8c52-1839706c8007",
   "metadata": {},
   "outputs": [],
   "source": [
    "zone['timestamp'] = pd.to_datetime(zone['timestamp'])\n",
    "piv = zone.pivot_table(index='timestamp', \n",
    "                     columns='zone_id', \n",
    "                     values='zone_fan_speed', \n",
    "                     aggfunc='first')\n",
    "\n",
    "piv = piv.sort_index()    #sortiramo po vremenu\n",
    "piv = piv.bfill()         #backfill jer je svaki drugi podatak za par tisucinki pomaknuti timestamp s NaN vrijednostima\n",
    "\n",
    "\n",
    "changes_any_zone = piv.diff().ne(0).any(axis=1)     \n",
    "#print(changes_any_zone)\n",
    "\n",
    "#svaka promjena je novi id\n",
    "piv['segment_id'] = changes_any_zone.cumsum()\n",
    "\n",
    "segments = piv.groupby('segment_id', as_index=False).agg(\n",
    "    start_time = ('segment_id', lambda x: x.index[0]),\n",
    "    end_time   = ('segment_id', lambda x: x.index[-1])\n",
    ")\n",
    "\n",
    "# Izračunamo trajanje segmenta\n",
    "segments['duration'] = segments['end_time'] - segments['start_time']\n",
    "\n",
    "segments_15min = segments[segments['duration'] >= pd.Timedelta(minutes=15)]\n",
    "\n",
    "segments_15min.to_csv(\"segmenti_bez_promjena_fan_speeda.csv\", index=False)"
   ]
  }
 ],
 "metadata": {
  "kernelspec": {
   "display_name": "Python [conda env:base] *",
   "language": "python",
   "name": "conda-base-py"
  },
  "language_info": {
   "codemirror_mode": {
    "name": "ipython",
    "version": 3
   },
   "file_extension": ".py",
   "mimetype": "text/x-python",
   "name": "python",
   "nbconvert_exporter": "python",
   "pygments_lexer": "ipython3",
   "version": "3.12.2"
  }
 },
 "nbformat": 4,
 "nbformat_minor": 5
}

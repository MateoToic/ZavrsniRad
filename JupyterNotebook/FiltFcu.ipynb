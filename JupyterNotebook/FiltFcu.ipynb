{
 "cells": [
  {
   "cell_type": "code",
   "execution_count": 23,
   "id": "ccc8bae2-95c3-41c3-b783-2b100045ccbb",
   "metadata": {},
   "outputs": [],
   "source": [
    "import pandas as pd\n",
    "path = '../Podaci/9_S/2022/zones_20_year_2022.csv'\n",
    "path2 = '../Podaci/Opcenito/zone_fcu.csv'\n",
    "zone = pd.read_csv(path, low_memory=False)\n",
    "fcu = pd.read_csv(path2)"
   ]
  },
  {
   "cell_type": "code",
   "execution_count": 30,
   "id": "e7519834-d76f-461d-a94c-84b8f477fa19",
   "metadata": {},
   "outputs": [],
   "source": [
    "import pandas as pd\n",
    "zone_ids_fcu1 = fcu[fcu['fcu_type_id'] == 1.0]['zone_id'].unique().tolist()\n",
    "\n",
    "zone['timestamp'] = pd.to_datetime(zone['timestamp'])\n",
    "\n",
    "piv = zone.pivot_table(index='timestamp', \n",
    "                       columns='zone_id', \n",
    "                       values='zone_fan_speed', \n",
    "                       aggfunc='first')\n",
    "\n",
    "piv = piv.sort_index()\n",
    "piv = piv.bfill()\n",
    "\n",
    "piv_fokus = piv[zone_ids_fcu1]\n",
    "\n",
    "changes_any_zone = piv_fokus.diff().ne(0).any(axis=1)\n",
    "\n",
    "piv['segment_id'] = changes_any_zone.cumsum()\n",
    "\n",
    "segments = piv.groupby('segment_id', as_index=False).agg(\n",
    "    start_time = ('segment_id', lambda x: x.index[0]),\n",
    "    end_time   = ('segment_id', lambda x: x.index[-1])\n",
    ")\n",
    "\n",
    "segments['duration'] = segments['end_time'] - segments['start_time']\n",
    "segments_15min = segments[segments['duration'] >= pd.Timedelta(minutes=15)]\n"
   ]
  }
 ],
 "metadata": {
  "kernelspec": {
   "display_name": "Python [conda env:base] *",
   "language": "python",
   "name": "conda-base-py"
  },
  "language_info": {
   "codemirror_mode": {
    "name": "ipython",
    "version": 3
   },
   "file_extension": ".py",
   "mimetype": "text/x-python",
   "name": "python",
   "nbconvert_exporter": "python",
   "pygments_lexer": "ipython3",
   "version": "3.12.2"
  }
 },
 "nbformat": 4,
 "nbformat_minor": 5
}

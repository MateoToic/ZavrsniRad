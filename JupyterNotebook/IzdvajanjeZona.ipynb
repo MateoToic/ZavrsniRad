{
 "cells": [
  {
   "cell_type": "markdown",
   "id": "ede6e13f-168e-4d9c-b721-12392d272f6e",
   "metadata": {},
   "source": "Stvara file koji povezuje kalorimetre s pripadajucim zonama"
  },
  {
   "cell_type": "code",
   "id": "5b31fcdb-e996-47e7-8b4d-592b20a163fb",
   "metadata": {
    "ExecuteTime": {
     "end_time": "2025-05-19T11:21:06.973841Z",
     "start_time": "2025-05-19T11:21:06.393175Z"
    }
   },
   "source": [
    "import pandas as pd\n",
    "\n",
    "zone = pd.read_csv('../csvFiles/zone.csv')\n",
    "kal = pd.read_csv('../csvFiles/calorimeter.csv')"
   ],
   "outputs": [],
   "execution_count": 1
  },
  {
   "cell_type": "code",
   "id": "30533225-bc21-4320-ab0a-758db05be9e7",
   "metadata": {
    "ExecuteTime": {
     "end_time": "2025-05-19T11:21:06.987773Z",
     "start_time": "2025-05-19T11:21:06.983551Z"
    }
   },
   "source": [
    "rezultat = zone[(zone['measurement_group_id'] == 19) | (zone['measurement_group_id'] == 20)]"
   ],
   "outputs": [],
   "execution_count": 2
  },
  {
   "cell_type": "code",
   "id": "b33234bf-a416-4c14-b3a6-1084d9fcf727",
   "metadata": {
    "ExecuteTime": {
     "end_time": "2025-05-19T11:21:06.998677Z",
     "start_time": "2025-05-19T11:21:06.993631Z"
    }
   },
   "source": [
    "novi_df = rezultat[['name', 'zone_id', 'measurement_group_id']].rename(columns={'measurement_group_id': 'calorimeter_id'})\n",
    "sortirani_df = novi_df.sort_values(by='name')\n",
    "sortirani_df = sortirani_df.reset_index(drop=True)"
   ],
   "outputs": [],
   "execution_count": 3
  },
  {
   "cell_type": "code",
   "id": "7aaf780c-c5f5-4c04-888a-0c2c6ceb93e7",
   "metadata": {
    "ExecuteTime": {
     "end_time": "2025-05-19T11:21:27.583094Z",
     "start_time": "2025-05-19T11:21:27.572541Z"
    }
   },
   "source": "sortirani_df.to_csv('../csvFiles/kalorimetar_zone.csv', index=False)",
   "outputs": [],
   "execution_count": 5
  }
 ],
 "metadata": {
  "kernelspec": {
   "display_name": "Python [conda env:base] *",
   "language": "python",
   "name": "conda-base-py"
  },
  "language_info": {
   "codemirror_mode": {
    "name": "ipython",
    "version": 3
   },
   "file_extension": ".py",
   "mimetype": "text/x-python",
   "name": "python",
   "nbconvert_exporter": "python",
   "pygments_lexer": "ipython3",
   "version": "3.12.2"
  }
 },
 "nbformat": 4,
 "nbformat_minor": 5
}
